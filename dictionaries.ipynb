{
  "nbformat": 4,
  "nbformat_minor": 0,
  "metadata": {
    "colab": {
      "name": "dictionaries.ipynb",
      "provenance": [],
      "collapsed_sections": [],
      "authorship_tag": "ABX9TyMnKXISB2t7NWwY8I2k8JOa",
      "include_colab_link": true
    },
    "kernelspec": {
      "name": "python3",
      "display_name": "Python 3"
    },
    "language_info": {
      "name": "python"
    }
  },
  "cells": [
    {
      "cell_type": "markdown",
      "metadata": {
        "id": "view-in-github",
        "colab_type": "text"
      },
      "source": [
        "<a href=\"https://colab.research.google.com/github/eshithagedda/c-programs-/blob/main/dictionaries.ipynb\" target=\"_parent\"><img src=\"https://colab.research.google.com/assets/colab-badge.svg\" alt=\"Open In Colab\"/></a>"
      ]
    },
    {
      "cell_type": "code",
      "source": [
        "thisdict = {\n",
        "  \"brand\": \"Ford\",\n",
        "  \"model\": \"Mustang\",\n",
        "  \"year\": 1964\n",
        "}\n",
        "x = thisdict[\"model\"]"
      ],
      "metadata": {
        "id": "4Cgl6Hlygt-D"
      },
      "execution_count": 3,
      "outputs": []
    },
    {
      "cell_type": "code",
      "source": [
        "placement={\n",
        "    \"name\":str(input(\"Enter your name: \")),\n",
        "    \"age\":int(input(\"Enter your age: \")),\n",
        "    \"cgpa\":float(input(\"Enter your CGPA: \")),\n",
        "    \"section\":str(input(\"Enter your section: \")),\n",
        "    \"phone number\":int(input(\"Enter your mobile number: \"))\n",
        "}\n",
        "x=placement.get(\"section\")\n",
        "print(x)\n",
        "\n"
      ],
      "metadata": {
        "colab": {
          "base_uri": "https://localhost:8080/"
        },
        "id": "ED_yKJYcg22i",
        "outputId": "d0c57e68-4a15-44e0-e636-5bea9935cb56"
      },
      "execution_count": 11,
      "outputs": [
        {
          "output_type": "stream",
          "name": "stdout",
          "text": [
            "Enter your name: e\n",
            "Enter your age: 4\n",
            "Enter your CGPA: 5\n",
            "Enter your section: w\n",
            "Enter your mobile number: 3\n",
            "w\n"
          ]
        }
      ]
    },
    {
      "cell_type": "code",
      "source": [
        "placement={\n",
        "    \"name\":str(input(\"Enter your name: \")),\n",
        "    \"age\":int(input(\"Enter your age: \")),\n",
        "    \"cgpa\":float(input(\"Enter your CGPA: \")),\n",
        "    \"section\":str(input(\"Enter your section: \")),\n",
        "    \"phone number\":int(input(\"Enter your mobile number: \"))\n",
        "}\n",
        "placement[\"year of passing out\"]=int(input(\"Enter the year of your passing out: \" ))\n",
        "print(x)"
      ],
      "metadata": {
        "colab": {
          "base_uri": "https://localhost:8080/"
        },
        "id": "PJtbG1jnkfLp",
        "outputId": "57534e56-4c20-4401-8b36-5e97576972f2"
      },
      "execution_count": 12,
      "outputs": [
        {
          "output_type": "stream",
          "name": "stdout",
          "text": [
            "Enter your name: e\n",
            "Enter your age: 18\n",
            "Enter your CGPA: 9\n",
            "Enter your section: se\n",
            "Enter your mobile number: 8\n",
            "Enter the year of your passing out2025\n",
            "w\n"
          ]
        }
      ]
    },
    {
      "cell_type": "code",
      "source": [
        ""
      ],
      "metadata": {
        "id": "hafOw65uk-e0"
      },
      "execution_count": null,
      "outputs": []
    }
  ]
}